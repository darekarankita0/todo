{
 "cells": [
  {
   "cell_type": "code",
   "execution_count": null,
   "metadata": {},
   "outputs": [
    {
     "name": "stdout",
     "output_type": "stream",
     "text": [
      " * Serving Flask app \"__main__\" (lazy loading)\n",
      " * Environment: production\n",
      "   WARNING: This is a development server. Do not use it in a production deployment.\n",
      "   Use a production WSGI server instead.\n",
      " * Debug mode: off\n"
     ]
    },
    {
     "name": "stderr",
     "output_type": "stream",
     "text": [
      " * Running on http://127.0.0.1:5000/ (Press CTRL+C to quit)\n",
      "127.0.0.1 - - [21/Jan/2021 17:42:45] \"\u001b[37mGET / HTTP/1.1\u001b[0m\" 200 -\n",
      "127.0.0.1 - - [21/Jan/2021 17:42:54] \"\u001b[32mPOST /add HTTP/1.1\u001b[0m\" 302 -\n",
      "127.0.0.1 - - [21/Jan/2021 17:42:54] \"\u001b[37mGET / HTTP/1.1\u001b[0m\" 200 -\n",
      "127.0.0.1 - - [21/Jan/2021 17:43:01] \"\u001b[32mGET /update/2 HTTP/1.1\u001b[0m\" 302 -\n",
      "127.0.0.1 - - [21/Jan/2021 17:43:01] \"\u001b[37mGET / HTTP/1.1\u001b[0m\" 200 -\n",
      "127.0.0.1 - - [21/Jan/2021 17:43:05] \"\u001b[32mGET /update/2 HTTP/1.1\u001b[0m\" 302 -\n",
      "127.0.0.1 - - [21/Jan/2021 17:43:05] \"\u001b[37mGET / HTTP/1.1\u001b[0m\" 200 -\n",
      "127.0.0.1 - - [21/Jan/2021 17:43:08] \"\u001b[32mGET /delete/2 HTTP/1.1\u001b[0m\" 302 -\n",
      "[2021-01-21 17:43:08,403] ERROR in app: Exception on /delete/2 [GET]\n",
      "Traceback (most recent call last):\n",
      "  File \"C:\\Users\\Dell\\project\\lib\\site-packages\\sqlalchemy\\orm\\session.py\", line 2050, in delete\n",
      "    state = attributes.instance_state(instance)\n",
      "AttributeError: 'NoneType' object has no attribute '_sa_instance_state'\n",
      "\n",
      "The above exception was the direct cause of the following exception:\n",
      "\n",
      "Traceback (most recent call last):\n",
      "  File \"C:\\Users\\Dell\\project\\lib\\site-packages\\flask\\app.py\", line 2447, in wsgi_app\n",
      "    response = self.full_dispatch_request()\n",
      "  File \"C:\\Users\\Dell\\project\\lib\\site-packages\\flask\\app.py\", line 1952, in full_dispatch_request\n",
      "    rv = self.handle_user_exception(e)\n",
      "  File \"C:\\Users\\Dell\\project\\lib\\site-packages\\flask\\app.py\", line 1821, in handle_user_exception\n",
      "    reraise(exc_type, exc_value, tb)\n",
      "  File \"C:\\Users\\Dell\\project\\lib\\site-packages\\flask\\_compat.py\", line 39, in reraise\n",
      "    raise value\n",
      "  File \"C:\\Users\\Dell\\project\\lib\\site-packages\\flask\\app.py\", line 1950, in full_dispatch_request\n",
      "    rv = self.dispatch_request()\n",
      "  File \"C:\\Users\\Dell\\project\\lib\\site-packages\\flask\\app.py\", line 1936, in dispatch_request\n",
      "    return self.view_functions[rule.endpoint](**req.view_args)\n",
      "  File \"<ipython-input-1-553b9f6527ee>\", line 44, in delete\n",
      "    db.session.delete(todo)\n",
      "  File \"C:\\Users\\Dell\\project\\lib\\site-packages\\sqlalchemy\\orm\\scoping.py\", line 163, in do\n",
      "    return getattr(self.registry(), name)(*args, **kwargs)\n",
      "  File \"C:\\Users\\Dell\\project\\lib\\site-packages\\sqlalchemy\\orm\\session.py\", line 2052, in delete\n",
      "    util.raise_(\n",
      "  File \"C:\\Users\\Dell\\project\\lib\\site-packages\\sqlalchemy\\util\\compat.py\", line 182, in raise_\n",
      "    raise exception\n",
      "sqlalchemy.orm.exc.UnmappedInstanceError: Class 'builtins.NoneType' is not mapped\n",
      "127.0.0.1 - - [21/Jan/2021 17:43:08] \"\u001b[35m\u001b[1mGET /delete/2 HTTP/1.1\u001b[0m\" 500 -\n",
      "127.0.0.1 - - [21/Jan/2021 17:43:27] \"\u001b[32mGET /delete/3 HTTP/1.1\u001b[0m\" 302 -\n",
      "127.0.0.1 - - [21/Jan/2021 17:43:27] \"\u001b[37mGET / HTTP/1.1\u001b[0m\" 200 -\n",
      "127.0.0.1 - - [21/Jan/2021 17:43:33] \"\u001b[32mPOST /add HTTP/1.1\u001b[0m\" 302 -\n",
      "127.0.0.1 - - [21/Jan/2021 17:43:33] \"\u001b[37mGET / HTTP/1.1\u001b[0m\" 200 -\n",
      "127.0.0.1 - - [21/Jan/2021 17:43:37] \"\u001b[32mGET /update/1 HTTP/1.1\u001b[0m\" 302 -\n",
      "127.0.0.1 - - [21/Jan/2021 17:43:37] \"\u001b[37mGET / HTTP/1.1\u001b[0m\" 200 -\n",
      "127.0.0.1 - - [21/Jan/2021 17:43:40] \"\u001b[32mGET /update/1 HTTP/1.1\u001b[0m\" 302 -\n",
      "127.0.0.1 - - [21/Jan/2021 17:43:40] \"\u001b[37mGET / HTTP/1.1\u001b[0m\" 200 -\n",
      "127.0.0.1 - - [21/Jan/2021 17:43:42] \"\u001b[32mGET /delete/1 HTTP/1.1\u001b[0m\" 302 -\n",
      "127.0.0.1 - - [21/Jan/2021 17:43:42] \"\u001b[37mGET / HTTP/1.1\u001b[0m\" 200 -\n"
     ]
    }
   ],
   "source": [
    "from flask import Flask, render_template, request, redirect, url_for\n",
    "from flask_sqlalchemy import SQLAlchemy\n",
    "\n",
    "app = Flask(__name__)\n",
    "\n",
    "# /// = relative path, //// = absolute path\n",
    "app.config['SQLALCHEMY_DATABASE_URI'] = 'sqlite:///db.sqlite'\n",
    "app.config['SQLALCHEMY_TRACK_MODIFICATIONS'] = False\n",
    "db = SQLAlchemy(app)\n",
    "\n",
    "\n",
    "class Todo(db.Model):\n",
    "    id = db.Column(db.Integer, primary_key=True)\n",
    "    title = db.Column(db.String(100))\n",
    "    complete = db.Column(db.Boolean)\n",
    "\n",
    "\n",
    "@app.route(\"/\")\n",
    "def home():\n",
    "    todo_list = Todo.query.all()\n",
    "    return render_template(\"base.html\", todo_list=todo_list)\n",
    "\n",
    "\n",
    "@app.route(\"/add\", methods=[\"POST\"])\n",
    "def add():\n",
    "    title = request.form.get(\"title\")\n",
    "    new_todo = Todo(title=title, complete=False)\n",
    "    db.session.add(new_todo)\n",
    "    db.session.commit()\n",
    "    return redirect(url_for(\"home\"))\n",
    "\n",
    "\n",
    "@app.route(\"/update/<int:todo_id>\")\n",
    "def update(todo_id):\n",
    "    todo = Todo.query.filter_by(id=todo_id).first()\n",
    "    todo.complete = not todo.complete\n",
    "    db.session.commit()\n",
    "    return redirect(url_for(\"home\"))\n",
    "\n",
    "\n",
    "@app.route(\"/delete/<int:todo_id>\")\n",
    "def delete(todo_id):\n",
    "    todo = Todo.query.filter_by(id=todo_id).first()\n",
    "    db.session.delete(todo)\n",
    "    db.session.commit()\n",
    "    return redirect(url_for(\"home\"))\n",
    "\n",
    "if __name__ == \"__main__\":\n",
    "    db.create_all()\n",
    "    app.run(debug=False)\n"
   ]
  },
  {
   "cell_type": "code",
   "execution_count": null,
   "metadata": {},
   "outputs": [],
   "source": [
    "pip install flask_sqlalchemy"
   ]
  },
  {
   "cell_type": "code",
   "execution_count": null,
   "metadata": {},
   "outputs": [],
   "source": []
  }
 ],
 "metadata": {
  "kernelspec": {
   "display_name": "Python 3",
   "language": "python",
   "name": "python3"
  },
  "language_info": {
   "codemirror_mode": {
    "name": "ipython",
    "version": 3
   },
   "file_extension": ".py",
   "mimetype": "text/x-python",
   "name": "python",
   "nbconvert_exporter": "python",
   "pygments_lexer": "ipython3",
   "version": "3.8.5"
  }
 },
 "nbformat": 4,
 "nbformat_minor": 5
}
